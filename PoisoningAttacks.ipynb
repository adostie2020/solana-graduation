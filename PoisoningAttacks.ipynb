{
 "cells": [
  {
   "cell_type": "markdown",
   "id": "b1cfe2ca",
   "metadata": {},
   "source": [
    "## Load query into a dataframe"
   ]
  },
  {
   "cell_type": "code",
   "execution_count": null,
   "id": "2eeb21f2",
   "metadata": {},
   "outputs": [],
   "source": [
    "from dune_client.client import DuneClient\n",
    "import pandas as pd\n",
    "API_KEY = \"1EF7SJ7DWZYDkQ0KmbNiutJhtwjQDL5o\"\n",
    "dune = DuneClient(API_KEY)\n",
    "query_result = dune.get_latest_result(5145525).result.rows #QUERY SQL VISABLE AT https://dune.com/queries/5145525?sidebar=none\n",
    "print(query_result)\n",
    "result_table = pd.DataFrame(query_result)\n",
    "result_table.to_csv('result_table')\n",
    "result_table.head()"
   ]
  },
  {
   "cell_type": "markdown",
   "id": "904d3be9",
   "metadata": {},
   "source": [
    "## EDA On Poisoning "
   ]
  },
  {
   "cell_type": "code",
   "execution_count": null,
   "id": "7ef96a6e",
   "metadata": {},
   "outputs": [],
   "source": [
    "#most common poisoners\n",
    "from IPython.display import clear_output\n",
    "common_poisoners = result_table.value_counts(\"tx_signature_poisoning\")\n",
    "#volume of transfers from poisoners\n",
    "attack_volume = result_table.groupby('owner_from_poisoning')['amount_usd_poisoning'].sum()\n",
    "#get list of transactions to poisoner in next week\n",
    "query_result = dune.get_latest_result(5149832).result.rows #SQL at https://dune.com/queries/5149832?category=labels&id=labels.owner_addresses&sidebar=none\n",
    "poisoner_success = pd.DataFrame(query_result)\n",
    "successful_attacks = poisoner_success.value_counts('owner_from_poisoning')\n",
    "print(successful_attacks.head())\n",
    "poisoner_success = poisoner_success.groupby('owner_from_poisoning')['amount_usd_poisoning'].sum()\n",
    "concat = [poisoner_success, attack_volume]\n",
    "#show net amnt earned\n",
    "poisoner_net = pd.concat(concat, join='inner', axis=1)\n",
    "poisoner_net['net_earning'] = poisoner_net['amount_usd'] - poisoner_net['amount_usd_poisoning']\n",
    "print(poisoner_net.sort_values('net_earning', ascending=False).head())\n",
    "\n",
    "\n"
   ]
  },
  {
   "cell_type": "code",
   "execution_count": null,
   "id": "c5272371",
   "metadata": {},
   "outputs": [],
   "source": [
    "\n"
   ]
  }
 ],
 "metadata": {
  "kernelspec": {
   "display_name": "Python 3",
   "language": "python",
   "name": "python3"
  },
  "language_info": {
   "codemirror_mode": {
    "name": "ipython",
    "version": 3
   },
   "file_extension": ".py",
   "mimetype": "text/x-python",
   "name": "python",
   "nbconvert_exporter": "python",
   "pygments_lexer": "ipython3",
   "version": "3.11.9"
  }
 },
 "nbformat": 4,
 "nbformat_minor": 5
}
